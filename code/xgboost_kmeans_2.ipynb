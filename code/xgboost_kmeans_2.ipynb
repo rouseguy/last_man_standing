{
 "cells": [
  {
   "cell_type": "markdown",
   "metadata": {},
   "source": [
    "# Cluster + RF code for last-man-standing hackathon by AnalyticsVidhya\n",
    "### Code created on : 31st Jan 2015 | Author: Bargava\n",
    "\n",
    "Link to competition\n",
    "http://datahack.analyticsvidhya.com/contest/last-man-standing\n",
    "\n",
    "#### Solution Approach\n",
    "In this, we will create clusters from the training dataset. We will compute the distances of each training point to those cluster centers. That will be used as input to the `xgboost` model for training. "
   ]
  },
  {
   "cell_type": "code",
   "execution_count": 1,
   "metadata": {
    "collapsed": true
   },
   "outputs": [],
   "source": [
    "#Import the necessary libraries\n",
    "import numpy as np\n",
    "import pandas as pd\n",
    "from sklearn import preprocessing\n",
    "from sklearn.feature_extraction import DictVectorizer\n",
    "import xgboost as xgb\n",
    "from sklearn.ensemble import RandomForestClassifier\n",
    "from sklearn.ensemble import RandomForestRegressor\n",
    "from sklearn.ensemble import ExtraTreesClassifier\n",
    "from sklearn.ensemble import ExtraTreesRegressor\n",
    "from sklearn import linear_model\n",
    "from sklearn.kernel_ridge import KernelRidge\n",
    "from sklearn.svm import SVR\n",
    "from sklearn.cluster import KMeans"
   ]
  },
  {
   "cell_type": "code",
   "execution_count": 2,
   "metadata": {
    "collapsed": true
   },
   "outputs": [],
   "source": [
    "#read train, test and samplesub datasets\n",
    "train = pd.read_csv(\"../data/trainUpdated.csv\")\n",
    "test = pd.read_csv(\"../data/testUpdated.csv\")\n",
    "samplesub = pd.read_csv(\"../data/samplesubUpdated.csv\")\n",
    "label = pd.read_csv(\"../data/labelsUpdated.csv\")"
   ]
  },
  {
   "cell_type": "markdown",
   "metadata": {},
   "source": [
    "### k-means clustering"
   ]
  },
  {
   "cell_type": "code",
   "execution_count": 4,
   "metadata": {
    "collapsed": true
   },
   "outputs": [],
   "source": [
    "#set the parameters\n",
    "kmeans_estimator = KMeans(n_clusters=300, n_init=1, n_jobs=-2)"
   ]
  },
  {
   "cell_type": "code",
   "execution_count": 5,
   "metadata": {
    "collapsed": false
   },
   "outputs": [
    {
     "data": {
      "text/plain": [
       "KMeans(copy_x=True, init='k-means++', max_iter=300, n_clusters=300, n_init=1,\n",
       "    n_jobs=-2, precompute_distances='auto', random_state=None, tol=0.0001,\n",
       "    verbose=0)"
      ]
     },
     "execution_count": 5,
     "metadata": {},
     "output_type": "execute_result"
    }
   ],
   "source": [
    "#fit kmeans\n",
    "kmeans_estimator.fit(train)"
   ]
  },
  {
   "cell_type": "code",
   "execution_count": 6,
   "metadata": {
    "collapsed": false
   },
   "outputs": [],
   "source": [
    "#transform data to cluster-distance space - both train and test\n",
    "new_train = kmeans_estimator.transform(train)\n",
    "new_test = kmeans_estimator.transform(test)"
   ]
  },
  {
   "cell_type": "code",
   "execution_count": 7,
   "metadata": {
    "collapsed": false
   },
   "outputs": [
    {
     "name": "stdout",
     "output_type": "stream",
     "text": [
      "(88858, 300) (59310, 300)\n"
     ]
    }
   ],
   "source": [
    "print new_train.shape, new_test.shape"
   ]
  },
  {
   "cell_type": "code",
   "execution_count": 10,
   "metadata": {
    "collapsed": false
   },
   "outputs": [],
   "source": [
    "train = np.array(train)\n",
    "test = np.array(test)"
   ]
  },
  {
   "cell_type": "code",
   "execution_count": 15,
   "metadata": {
    "collapsed": false
   },
   "outputs": [],
   "source": [
    "train = np.concatenate((train, new_train), axis=1)\n",
    "test = np.concatenate((test, new_test), axis=1)"
   ]
  },
  {
   "cell_type": "code",
   "execution_count": 16,
   "metadata": {
    "collapsed": false
   },
   "outputs": [
    {
     "name": "stdout",
     "output_type": "stream",
     "text": [
      "(88858, 312) (59310, 312)\n"
     ]
    }
   ],
   "source": [
    "print train.shape, test.shape"
   ]
  },
  {
   "cell_type": "markdown",
   "metadata": {},
   "source": [
    "### `xgboost` model"
   ]
  },
  {
   "cell_type": "code",
   "execution_count": 17,
   "metadata": {
    "collapsed": true
   },
   "outputs": [],
   "source": [
    "params = {}\n",
    "params[\"min_child_weight\"] = 10\n",
    "params[\"subsample\"] = 0.5\n",
    "params[\"colsample_bytree\"] = 0.5\n",
    "params[\"silent\"] = 0\n",
    "params[\"max_depth\"] = 14\n",
    "params[\"nthread\"] = 6\n",
    "params[\"gamma\"] = 3\n",
    "params[\"objective\"] = \"multi:softmax\"\n",
    "params[\"num_class\"] = 3\n",
    "params[\"verbose\"] = 2\n",
    "params[\"eta\"] = 0.3\n",
    "params[\"base_score\"] = 0\n",
    "params[\"eval_metric\"] = \"merror\"\n",
    "params[\"seed\"] = 13\n",
    "\n",
    "plst = list(params.items())\n",
    "num_rounds = 400"
   ]
  },
  {
   "cell_type": "code",
   "execution_count": 18,
   "metadata": {
    "collapsed": false
   },
   "outputs": [],
   "source": [
    "xgtrain_pv = xgb.DMatrix(np.array(new_train).astype(float), label=np.array(label).astype(float))\n",
    "watchlist = [(xgtrain_pv, 'train')]"
   ]
  },
  {
   "cell_type": "code",
   "execution_count": 19,
   "metadata": {
    "collapsed": true
   },
   "outputs": [],
   "source": [
    "model_1_xgboost = xgb.train(plst, xgtrain_pv, num_rounds)"
   ]
  },
  {
   "cell_type": "code",
   "execution_count": 29,
   "metadata": {
    "collapsed": true
   },
   "outputs": [],
   "source": [
    "model_1_xgboost.save_model(\"../model/model1xgboost.model\")"
   ]
  },
  {
   "cell_type": "code",
   "execution_count": 20,
   "metadata": {
    "collapsed": true
   },
   "outputs": [],
   "source": [
    "#Predicting the model\n",
    "model_1_predict = model_1_xgboost.predict(xgb.DMatrix(np.array(new_test).astype(float)))"
   ]
  },
  {
   "cell_type": "code",
   "execution_count": 21,
   "metadata": {
    "collapsed": false
   },
   "outputs": [],
   "source": [
    "samplesub.columns = [\"ID\"]"
   ]
  },
  {
   "cell_type": "code",
   "execution_count": 22,
   "metadata": {
    "collapsed": false
   },
   "outputs": [],
   "source": [
    "samplesub[\"Crop_Damage\"] = model_1_predict"
   ]
  },
  {
   "cell_type": "code",
   "execution_count": 23,
   "metadata": {
    "collapsed": false
   },
   "outputs": [],
   "source": [
    "#Write the prediction to a csv\n",
    "samplesub.to_csv(\"../submission/submission_31jan_1.csv\", index=False)"
   ]
  },
  {
   "cell_type": "code",
   "execution_count": 56,
   "metadata": {
    "collapsed": true
   },
   "outputs": [],
   "source": [
    "#This coded 0.834853657172 on LB"
   ]
  }
 ],
 "metadata": {
  "kernelspec": {
   "display_name": "Python 2",
   "language": "python",
   "name": "python2"
  },
  "language_info": {
   "codemirror_mode": {
    "name": "ipython",
    "version": 2
   },
   "file_extension": ".py",
   "mimetype": "text/x-python",
   "name": "python",
   "nbconvert_exporter": "python",
   "pygments_lexer": "ipython2",
   "version": "2.7.11"
  }
 },
 "nbformat": 4,
 "nbformat_minor": 0
}
